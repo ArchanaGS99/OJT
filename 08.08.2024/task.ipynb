{
 "cells": [
  {
   "cell_type": "code",
   "execution_count": 6,
   "metadata": {},
   "outputs": [],
   "source": [
    "import cv2\n",
    "import numpy as np"
   ]
  },
  {
   "cell_type": "code",
   "execution_count": 7,
   "metadata": {},
   "outputs": [],
   "source": [
    "# read the image with particular library which we have imported\n",
    "image = cv2.imread('test.jpg')\n",
    "if image is None:\n",
    "    print(\"Could not read the image\")\n",
    "    exit()\n",
    "\n",
    "\n"
   ]
  },
  {
   "cell_type": "code",
   "execution_count": 8,
   "metadata": {},
   "outputs": [],
   "source": [
    "# orginal image\n",
    "cv2.imshow('orginal image', image)\n",
    "cv2.waitKey(0)\n",
    "cv2.destroyAllWindows()"
   ]
  },
  {
   "cell_type": "code",
   "execution_count": 9,
   "metadata": {},
   "outputs": [],
   "source": [
    "# convert to greyscale\n",
    "grey_image = cv2.cvtColor(image, cv2.COLOR_BGR2GRAY)\n",
    "cv2.imshow('greyscale image:', grey_image)\n",
    "cv2.waitKey(0)\n",
    "cv2.destroyAllWindows()"
   ]
  },
  {
   "cell_type": "code",
   "execution_count": 10,
   "metadata": {},
   "outputs": [],
   "source": [
    "# we apply a gaussian blur into the above image\n",
    "blurred_image = cv2.GaussianBlur(grey_image, (5, 5), 0)\n",
    "cv2.imshow('blur image:', blurred_image)\n",
    "cv2.waitKey(0)\n",
    "cv2.destroyAllWindows()"
   ]
  },
  {
   "cell_type": "code",
   "execution_count": 11,
   "metadata": {},
   "outputs": [],
   "source": [
    "# edge detection by using canny in cv2\n",
    "edge = cv2.Canny(blurred_image, 50, 150)\n",
    "cv2.imshow('edge image:', edge)\n",
    "cv2.waitKey(0)\n",
    "cv2.destroyAllWindows()"
   ]
  },
  {
   "cell_type": "code",
   "execution_count": 12,
   "metadata": {},
   "outputs": [],
   "source": [
    "# orginal image\n",
    "cv2.imshow('orginal image', image)\n",
    "cv2.waitKey(0)\n",
    "\n",
    "cv2.imshow('greyscale image:', grey_image)\n",
    "cv2.waitKey(0)\n",
    "\n",
    "cv2.imshow('blur image:', blurred_image)\n",
    "cv2.waitKey(0)\n",
    "\n",
    "cv2.imshow('edge image:', edge)\n",
    "cv2.waitKey(0)\n",
    "\n",
    "cv2.destroyAllWindows()"
   ]
  }
 ],
 "metadata": {
  "kernelspec": {
   "display_name": "Python 3",
   "language": "python",
   "name": "python3"
  },
  "language_info": {
   "codemirror_mode": {
    "name": "ipython",
    "version": 3
   },
   "file_extension": ".py",
   "mimetype": "text/x-python",
   "name": "python",
   "nbconvert_exporter": "python",
   "pygments_lexer": "ipython3",
   "version": "3.12.3"
  }
 },
 "nbformat": 4,
 "nbformat_minor": 2
}
